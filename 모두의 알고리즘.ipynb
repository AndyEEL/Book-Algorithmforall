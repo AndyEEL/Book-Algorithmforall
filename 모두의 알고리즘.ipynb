{
 "cells": [
  {
   "cell_type": "markdown",
   "metadata": {},
   "source": [
    "# 모두의 알고리즘"
   ]
  },
  {
   "cell_type": "markdown",
   "metadata": {},
   "source": [
    "## 목차  \n",
    "### 들어가는 글  \n",
    "### 첫째 마당 : 알고리즘 기초  \n",
    "##### 문제1: 1부터 n까지의 합 구하기  \n",
    "##### 문제2: 최댓값 찾기  \n",
    "##### 문제3: 동명이인 찾기(1)  \n",
    "\n",
    "### 둘째 마당 : 재귀 호출  \n",
    "##### 문제4: 팩토리얼 구하기  \n",
    "##### 문제5: 최대공약수 구하기  \n",
    "##### 문제6: 하노이의 탑 옮기기  \n",
    "\n",
    "### 셋째 마당 : 재귀 호출  \n",
    "##### 문제7: 순차 탐색   \n",
    "##### 문제8: 선택 정렬  \n",
    "##### 문제9: 삽입 정렬  \n",
    "##### 문제10: 병합 정렬  \n",
    "##### 문제11: 퀵 정렬  \n",
    "##### 문제12: 이분 탐색  \n",
    "\n",
    "### 넷째 마당 : 자료 구조  \n",
    "##### 문제13: 회문 찾기(큐와 스택)  \n",
    "##### 문제14: 동명이인 찾기(2)(딕셔너리)\n",
    "##### 문제15: 친구의 친구 찾기(그래프)  \n",
    "\n",
    "### 다섯째 마당: 응용문제\n",
    "##### 문제16: 미로 찾기 알고리즘  \n",
    "##### 문제17: 가짜 동전 찾기 알고리즘  \n",
    "##### 문제18: 최대 수익 알고리즘  "
   ]
  },
  {
   "cell_type": "markdown",
   "metadata": {},
   "source": [
    "-----"
   ]
  },
  {
   "cell_type": "markdown",
   "metadata": {},
   "source": [
    "## 들어가는 글"
   ]
  },
  {
   "cell_type": "markdown",
   "metadata": {},
   "source": [
    "알고리즘  \n",
    "- 알고리즘은 어떤 문제를 풀기 위한 절차나 방법입니다.\n",
    "- 알고리즘은 주어진 '입력'을 '출력'으로 만드는 과정입니다.\n",
    "- 알고리즘의 각 단계는 구체적이고 명료해야 합니다.\n",
    "<br>\n",
    "\n",
    "알고리즘 분석\n",
    "- 한가지 문제를 푸는 여러 가지 알고리즘이 있고, 각 알고리즘의 성능이나 특징을 분석하는 것을 '알고리즘 분석'이라고 한다."
   ]
  },
  {
   "cell_type": "code",
   "execution_count": 6,
   "metadata": {},
   "outputs": [],
   "source": [
    "# 절댓값 함수\n",
    "import math\n",
    "\n",
    "def abs_sign(a):\n",
    "    if a>=0:\n",
    "        return a\n",
    "    else:\n",
    "        return -a\n"
   ]
  },
  {
   "cell_type": "markdown",
   "metadata": {},
   "source": [
    "## 첫째 마당"
   ]
  },
  {
   "cell_type": "markdown",
   "metadata": {},
   "source": [
    "### 문제1: 1부터 n까지의 합 구하기"
   ]
  },
  {
   "cell_type": "code",
   "execution_count": 7,
   "metadata": {},
   "outputs": [],
   "source": [
    "# 내 풀이\n",
    "def sum_sign(n):\n",
    "        return (1+n)*n/2"
   ]
  },
  {
   "cell_type": "code",
   "execution_count": 16,
   "metadata": {},
   "outputs": [],
   "source": [
    "# 책 풀이\n",
    "def sum_n(n):\n",
    "    s=0\n",
    "    for i in range(1, n+1):\n",
    "        s = s+ i\n",
    "    return s"
   ]
  },
  {
   "cell_type": "markdown",
   "metadata": {},
   "source": [
    "대문자 O표기법: 계산 복잡도 표현\n",
    "'sum_sign'은 덧셈 한 번, 곱셈 한 번, 나눗셈 한 번 총 3번이다. 즉 O(1)이다. O(3)이 아닌 이유는 입력 크기가 커져도 계산 시간이 더 늘어나지 않기 때문이다. \n",
    "'sum_n'은 입력 크기가 커질 수 록 비례하여 계산 횟수가 커지기 때문에 O(n)으로 표기한다.\n",
    "- O(n): 필요한 계산 횟수가 입력 크기 n과 비례할 때\n",
    "- O(n): 필요한 계산 횟수가 입력 크기 n과 무관할 때\n",
    "즉, 보통 O(1)인 알고리즘이 훨씬 더 빠르다.\n",
    "\n",
    "<br>\n",
    "나중에는 공간 복잡도의 개념도 등장한다."
   ]
  },
  {
   "cell_type": "code",
   "execution_count": 28,
   "metadata": {},
   "outputs": [],
   "source": [
    "#연습문제 1-1:\n",
    "def sum_sqr(n):\n",
    "    s = 0\n",
    "    for i in range(1, n+1):\n",
    "        s = s + i**2\n",
    "    return s\n",
    "\n",
    "print(sum_sqr(10))"
   ]
  },
  {
   "cell_type": "code",
   "execution_count": 32,
   "metadata": {},
   "outputs": [],
   "source": [
    "#연습문제 1-2:\n",
    "#1-1의 알고리즘의 계산 복잡도는 O(n)이다. 입력크기에 따라 계산횟수가 비례하기 때문이다.\n",
    "\n",
    "#연습문제 1-3:\n",
    "#O(1)이 된다. 왜냐하면 입력크기에 따라 계산횟수가 비례하지 않기 때문이다."
   ]
  },
  {
   "cell_type": "markdown",
   "metadata": {},
   "source": [
    "### 문제2: 최댓값 찾기"
   ]
  },
  {
   "cell_type": "markdown",
   "metadata": {},
   "source": [
    "리스트\n",
    "- list[0]이 첫 번째 리스트의 원소\n",
    "- list[-1]은 마지막 번째 리스트의 원소\n",
    "- len(a), append(a), insert(i,x), pop(), clear(), x in a"
   ]
  },
  {
   "cell_type": "code",
   "execution_count": 59,
   "metadata": {},
   "outputs": [
    {
     "data": {
      "text/plain": [
       "7"
      ]
     },
     "execution_count": 59,
     "metadata": {},
     "output_type": "execute_result"
    }
   ],
   "source": [
    "#문제: 최댓값 찾기\n",
    "# 내 풀이\n",
    "# (오답노트) 초기 값을 s =0 이라 하지말고, 리스트 내에서 뽑았어야 했다.\n",
    "def big_find(a):\n",
    "    s = a[0]\n",
    "    for i in a:\n",
    "        if i > s:\n",
    "            s = i\n",
    "    return s\n",
    "\n",
    "a = [1,2,3,4,5,7]\n",
    "big_find(a)"
   ]
  },
  {
   "cell_type": "code",
   "execution_count": 60,
   "metadata": {},
   "outputs": [],
   "source": [
    "#응용하기\n",
    "#최댓값 위치 번호 출력 알고리즘\n",
    "\n",
    "def pop_big(a):\n",
    "    k = []\n",
    "    s = big_find(a)\n",
    "    for i in range(1,len(a)):\n",
    "        if a[i] == s:\n",
    "            k.append(i)\n",
    "    return k"
   ]
  },
  {
   "cell_type": "code",
   "execution_count": 62,
   "metadata": {},
   "outputs": [
    {
     "data": {
      "text/plain": [
       "[1]"
      ]
     },
     "execution_count": 62,
     "metadata": {},
     "output_type": "execute_result"
    }
   ],
   "source": [
    "a=[17,92,18,33,58,7,33,42]\n",
    "pop_big(a)"
   ]
  },
  {
   "cell_type": "code",
   "execution_count": 65,
   "metadata": {},
   "outputs": [],
   "source": [
    "#연습문제 2-1: 리스트의 최솟값(과 위치)을 출혁하는 알고리즘\n",
    "\n",
    "#최솟 값 출력\n",
    "def find_min(a):\n",
    "    s = a[0]\n",
    "    for i in range(1, len(a)):\n",
    "        if a[i] > s:\n",
    "            s = a[i]\n",
    "            k = i\n",
    "    return s, k"
   ]
  },
  {
   "cell_type": "code",
   "execution_count": 67,
   "metadata": {},
   "outputs": [
    {
     "data": {
      "text/plain": [
       "(92, 1)"
      ]
     },
     "execution_count": 67,
     "metadata": {},
     "output_type": "execute_result"
    }
   ],
   "source": [
    "a=[17,92,18,33,58,7,33,42]\n",
    "find_min(a)"
   ]
  },
  {
   "cell_type": "markdown",
   "metadata": {},
   "source": [
    "### 문제3: 동명이인 찾기(1)"
   ]
  },
  {
   "cell_type": "markdown",
   "metadata": {},
   "source": [
    "집합\n",
    "- 리스트와 비슷하지만, 집합 하나에는 같은 자료가 중복되어 들어가지 않고, 순소도 의미가 없다.\n",
    "- len(s), add(x), discard(x), clear(), x in s"
   ]
  },
  {
   "cell_type": "code",
   "execution_count": 78,
   "metadata": {},
   "outputs": [
    {
     "data": {
      "text/plain": [
       "{'Jerry', 'Mike', 'Tom'}"
      ]
     },
     "execution_count": 78,
     "metadata": {},
     "output_type": "execute_result"
    }
   ],
   "source": [
    "a = list(['Tom','Jerry','Mike','Tom'])\n",
    "set(a)\n"
   ]
  },
  {
   "cell_type": "code",
   "execution_count": 106,
   "metadata": {},
   "outputs": [
    {
     "name": "stdout",
     "output_type": "stream",
     "text": [
      "['Mike', 'Tom']\n"
     ]
    }
   ],
   "source": [
    "# 내 풀이\n",
    "#(오답노트) 풀이하는데 시간이 많이 걸렸음. 어디에 새로운 집합을 넣을지 그런 고민들이 필요한듯?..\n",
    "# 좋은 알고리즘은 아닌게, 매번 if 문이 걸려서 계산 복잡도가 높다.\n",
    "# 다만 문제를 풀었다. 이게 중요하다. 자신감 갖구 해~\n",
    "a = ['Tom','Jerry','Mike','Tom','Mike']\n",
    "\n",
    "def find_same_name(a):\n",
    "    n = len(a)\n",
    "    set_a = set(a)\n",
    "    same_name=[]\n",
    "    for i in set(a):\n",
    "        ct = []\n",
    "        for j in range(0,n):\n",
    "            if i == a[j]:\n",
    "                ct.append(j)\n",
    "                if len(ct) >=2:\n",
    "                    same_name.append(i)\n",
    "\n",
    "    return same_name             \n",
    "\n",
    "print(find_same_name(a))        "
   ]
  },
  {
   "cell_type": "code",
   "execution_count": 108,
   "metadata": {},
   "outputs": [
    {
     "name": "stdout",
     "output_type": "stream",
     "text": [
      "{'Mike', 'Tom'}\n"
     ]
    }
   ],
   "source": [
    "# 책 풀이\n",
    "# 전체 탐색할때 이렇게 사용한다는 것 처음알았다.ㅁㄴㄴㅋ\n",
    "\n",
    "def find_same_name(a):\n",
    "    n = len(a)\n",
    "    same_name = set()\n",
    "    for i in range(0,n-1):\n",
    "        for j in range(i+1,n):\n",
    "            if a[i]==a[j]:\n",
    "                same_name.add(a[i])\n",
    "    return same_name\n",
    "\n",
    "a = ['Tom','Jerry','Mike','Tom','Mike']\n",
    "print(find_same_name(a))"
   ]
  },
  {
   "cell_type": "code",
   "execution_count": 111,
   "metadata": {},
   "outputs": [
    {
     "data": {
      "text/plain": [
       "['Tom-Jerry', 'Tom-Mike', 'Jerry-Mike']"
      ]
     },
     "execution_count": 111,
     "metadata": {},
     "output_type": "execute_result"
    }
   ],
   "source": [
    "# 연습문제 3-1:\n",
    "\n",
    "def Combine_two(a):\n",
    "    set_a = set(a)\n",
    "    n = len(set_a)\n",
    "    result = []\n",
    "    for i in range(0,n-1):\n",
    "        for j in range(i+1,n):\n",
    "            v = a[i]+'-'+a[j]\n",
    "            result.append(v)\n",
    "    return result\n",
    "\n",
    "a = ['Tom','Jerry','Mike']\n",
    "Combine_two(a)"
   ]
  },
  {
   "cell_type": "code",
   "execution_count": 112,
   "metadata": {},
   "outputs": [],
   "source": [
    "# 연습문제 3-2:\n",
    "# A: O(0)\n",
    "# B: O(n)\n",
    "# C: O(n**2)\n",
    "# D: O(n**4)"
   ]
  },
  {
   "cell_type": "markdown",
   "metadata": {},
   "source": [
    "## 둘째 마당: 재귀 호출"
   ]
  },
  {
   "cell_type": "markdown",
   "metadata": {},
   "source": [
    "### 문제4: 팩토리얼 구하기 "
   ]
  },
  {
   "cell_type": "code",
   "execution_count": 116,
   "metadata": {},
   "outputs": [
    {
     "data": {
      "text/plain": [
       "120"
      ]
     },
     "execution_count": 116,
     "metadata": {},
     "output_type": "execute_result"
    }
   ],
   "source": [
    "# 내 풀이\n",
    "# n은 자연수\n",
    "def fact(n):\n",
    "    s = 1\n",
    "    for i in range(1,n+1):\n",
    "        s = s*i\n",
    "    return s\n",
    "\n",
    "fact(5)"
   ]
  },
  {
   "cell_type": "code",
   "execution_count": 120,
   "metadata": {},
   "outputs": [
    {
     "name": "stdout",
     "output_type": "stream",
     "text": [
      "24\n"
     ]
    }
   ],
   "source": [
    "# 책 풀이\n",
    "# 재귀 호출로 알고리즘 구성\n",
    "def fact(n):\n",
    "    if n<= 1:\n",
    "        return 1\n",
    "    return n* fact(n-1)\n",
    "\n",
    "print(fact(4))"
   ]
  },
  {
   "cell_type": "code",
   "execution_count": 122,
   "metadata": {},
   "outputs": [
    {
     "name": "stdout",
     "output_type": "stream",
     "text": [
      "5050\n"
     ]
    }
   ],
   "source": [
    "#연습문제 4-1\n",
    "def sum_t(n):\n",
    "    if n <=1:\n",
    "        return 1\n",
    "    return n + sum_t(n-1)\n",
    "\n",
    "print(sum_t(100))"
   ]
  },
  {
   "cell_type": "markdown",
   "metadata": {},
   "source": [
    "### (Hard) 연습문제 4-2\n",
    "핵심은 n개 자료중 최댓값 -> n-1개 자료 중 최댓값과 n-1번 위치 값 중 더 큰 값"
   ]
  },
  {
   "cell_type": "code",
   "execution_count": 136,
   "metadata": {},
   "outputs": [
    {
     "name": "stdout",
     "output_type": "stream",
     "text": [
      "92\n"
     ]
    }
   ],
   "source": [
    "# 연습문제 4-2\n",
    "# 최댓값 찾기를 재귀 호출로 풀기\n",
    "# 책 풀이\n",
    "\n",
    "# 최댓값 구하기\n",
    "# 입력: 숫자가 n개 들어 있는 리스트\n",
    "# 출력: 숫자 n개 중 최댓값\n",
    "\n",
    "def find_max(a, n): #리스트 a의 앞부분 n개 중 최댓값을 구하는 재귀 함수\n",
    "    if n == 1:\n",
    "        return a[0]\n",
    "    max_n_1 = find_max(a, n-1)\n",
    "    if max_n_1 > a[n-1]:\n",
    "        return max_n_1\n",
    "    else:\n",
    "        return a[n-1]\n",
    "\n",
    "v = [17,92,18,33,58,7,33,42]\n",
    "print(find_max(v,len(v)))"
   ]
  },
  {
   "cell_type": "code",
   "execution_count": 138,
   "metadata": {},
   "outputs": [
    {
     "name": "stdout",
     "output_type": "stream",
     "text": [
      "36\n"
     ]
    }
   ],
   "source": [
    "# 내 풀이\n",
    "def find_max(a,n):\n",
    "    if n == 1:\n",
    "        return a[0]\n",
    "    max_n_1 = find_max(a,n-1)\n",
    "    if max_n_1 > a[n-1]:\n",
    "        return max_n_1\n",
    "    else:\n",
    "        return a[n-1]\n",
    "\n",
    "v= [15,14,13,22,35,36]\n",
    "print(find_max(v,len(v)))"
   ]
  },
  {
   "cell_type": "markdown",
   "metadata": {},
   "source": [
    "### 문제5: 최대공약수 구하기"
   ]
  },
  {
   "cell_type": "code",
   "execution_count": 166,
   "metadata": {},
   "outputs": [
    {
     "name": "stdout",
     "output_type": "stream",
     "text": [
      "24\n"
     ]
    }
   ],
   "source": [
    "# 내 풀이\n",
    "# 문제는 푸는데, 먼가 인간적인 느낌?\n",
    "def gcd(a,b):\n",
    "    def cd(n): \n",
    "        cdn = []\n",
    "        for i in range(1,n+1):\n",
    "            if n%i ==0:\n",
    "                 cdn.append(i)\n",
    "        return cdn\n",
    "    a_cdn = cd(a)\n",
    "    b_cdn = cd(b)\n",
    "    ab_cdn = set()\n",
    "    for t in range(0, len(a_cdn)):\n",
    "        for j in range(0, len(b_cdn)):\n",
    "            if a_cdn[t] == b_cdn[j]:\n",
    "                ab_cdn.add(b_cdn[j])\n",
    "    return max(ab_cdn)\n",
    "\n",
    "\n",
    "print(gcd(24,24))"
   ]
  },
  {
   "cell_type": "code",
   "execution_count": 157,
   "metadata": {},
   "outputs": [
    {
     "data": {
      "text/plain": [
       "{1, 2, 3, 6}"
      ]
     },
     "execution_count": 157,
     "metadata": {},
     "output_type": "execute_result"
    }
   ],
   "source": [
    "gcd(12,6)"
   ]
  },
  {
   "cell_type": "code",
   "execution_count": 172,
   "metadata": {},
   "outputs": [
    {
     "data": {
      "text/plain": [
       "1"
      ]
     },
     "execution_count": 172,
     "metadata": {},
     "output_type": "execute_result"
    }
   ],
   "source": [
    "# 책 풀이\n",
    "\n",
    "# 최대공약수 구하기\n",
    "# 입력: a, b\n",
    "# 출력: a와 b의 최대 공약수\n",
    "\n",
    "#(오답노트) return은 함수 탈출의 기능이 있다. 즉, 여기 함수에서 i가 최대일 때, 바로 탈출하게 된다.\n",
    "\n",
    "def gcd(a,b):\n",
    "    i = min(a,b)\n",
    "    while True:\n",
    "        if a % i ==0 and b % i ==0:\n",
    "            return i\n",
    "        i = i-1\n",
    "\n",
    "gcd(6,7)"
   ]
  },
  {
   "cell_type": "code",
   "execution_count": null,
   "metadata": {},
   "outputs": [],
   "source": [
    "while True:\n",
    "    "
   ]
  },
  {
   "cell_type": "code",
   "execution_count": 175,
   "metadata": {},
   "outputs": [
    {
     "name": "stdout",
     "output_type": "stream",
     "text": [
      "12\n"
     ]
    }
   ],
   "source": [
    "# 내 풀이\n",
    "# 재귀 방식으로 최대공약수 구하기\n",
    "\n",
    "def gcd(a,b):\n",
    "    if b == 0:\n",
    "        return a\n",
    "    return gcd(b,a%b)\n",
    "\n",
    "print(gcd(60,24))"
   ]
  },
  {
   "cell_type": "code",
   "execution_count": 178,
   "metadata": {},
   "outputs": [
    {
     "name": "stdout",
     "output_type": "stream",
     "text": [
      "3\n"
     ]
    }
   ],
   "source": [
    "#연습문제 5-1:\n",
    "\n",
    "def fibbo(n):\n",
    "    if n == 0:\n",
    "        return 0\n",
    "    if n == 1:\n",
    "        return 1\n",
    "    fibbo_n = fibbo(n-2) + fibbo(n-1)\n",
    "    return fibbo_n\n",
    "\n",
    "print(fibbo(4))"
   ]
  },
  {
   "cell_type": "markdown",
   "metadata": {},
   "source": [
    "### 문제6: 하노이의 탑 옮기기"
   ]
  },
  {
   "cell_type": "code",
   "execution_count": 179,
   "metadata": {},
   "outputs": [
    {
     "name": "stdout",
     "output_type": "stream",
     "text": [
      "1 -> 3\n",
      "1 -> 2\n",
      "1 -> 2\n",
      "2 -> 3\n",
      "1 -> 3\n",
      "1 -> 3\n",
      "3 -> 2\n",
      "1 -> 2\n",
      "2 -> 1\n",
      "2 -> 1\n",
      "1 -> 3\n"
     ]
    }
   ],
   "source": [
    "def hanoi(n, from_pos, to_pos, aux_pos):\n",
    "    if n == 1:\n",
    "        print(from_pos,'->', to_pos)\n",
    "        return\n",
    "    hanoi(n-1,from_pos, aux_pos, to_pos)\n",
    "    print(from_pos, '->', aux_pos)\n",
    "    hanoi(n-1,aux_pos, to_pos, from_pos)\n",
    "\n",
    "\n",
    "hanoi(1,1,3,2)\n",
    "hanoi(2,1,3,2)\n",
    "hanoi(3,1,3,2)\n",
    "    "
   ]
  },
  {
   "cell_type": "markdown",
   "metadata": {},
   "source": [
    "### 셋째 마당 : 탐색과 정렬\n",
    "### 문제7: 순차 탐색   "
   ]
  },
  {
   "cell_type": "code",
   "execution_count": null,
   "metadata": {},
   "outputs": [],
   "source": [
    "def search_list(a,t):\n",
    "    n = len(a)\n",
    "    for i in range(0,n):\n",
    "        if t ==a[i]:\n",
    "            return i\n",
    "        else:\n",
    "            return -1"
   ]
  },
  {
   "cell_type": "code",
   "execution_count": 2,
   "metadata": {},
   "outputs": [
    {
     "data": {
      "text/plain": [
       "[2, 9]"
      ]
     },
     "execution_count": 2,
     "metadata": {},
     "output_type": "execute_result"
    }
   ],
   "source": [
    "# 연습문제 7-1\n",
    "def search_list(a,t):\n",
    "    n = len(a)\n",
    "    k = []\n",
    "    for i in range(0,n):\n",
    "        if t == a[i]:\n",
    "            k.append(i)\n",
    "    return k\n",
    "\n",
    "v = [1,2,3,1,5,6,8,5,4,3,9]\n",
    "search_list(v,3)"
   ]
  },
  {
   "cell_type": "code",
   "execution_count": 10,
   "metadata": {},
   "outputs": [],
   "source": [
    "# 연습문제 7-3\n",
    "# O(n)이다\n",
    "\n",
    "# 연습문제 7-4\n",
    "stu_no = [39, 14, 67, 105]\n",
    "stu_name = ['Justin','John','Mike','Summer']\n",
    "\n",
    "def to_name(n):\n",
    "    for i in range(0,len(stu_no)):\n",
    "        if n == stu_no[i]:\n",
    "            return stu_name[i]\n",
    "    return print('?')\n"
   ]
  },
  {
   "cell_type": "markdown",
   "metadata": {},
   "source": [
    "### 문제8: 선택 정렬  "
   ]
  },
  {
   "cell_type": "code",
   "execution_count": 20,
   "metadata": {},
   "outputs": [
    {
     "data": {
      "text/plain": [
       "3"
      ]
     },
     "execution_count": 20,
     "metadata": {},
     "output_type": "execute_result"
    }
   ],
   "source": [
    "#최솟값 찾기\n",
    "def find_min_idx(a):\n",
    "    n = len(a)\n",
    "    min_idx = 0\n",
    "    for i in range(1,n):\n",
    "        if a[i] < a[min_idx]:\n",
    "            min_idx = i\n",
    "    return min_idx\n",
    "\n",
    "find_min_idx(v)"
   ]
  },
  {
   "cell_type": "code",
   "execution_count": 21,
   "metadata": {},
   "outputs": [
    {
     "data": {
      "text/plain": [
       "[1, 2, 3, 4, 5]"
      ]
     },
     "execution_count": 21,
     "metadata": {},
     "output_type": "execute_result"
    }
   ],
   "source": [
    "#쉽게 설명한 선택 알고리즘\n",
    "def sel_srt(a):\n",
    "    result = []\n",
    "    while a:\n",
    "        idx = find_min_idx(a)\n",
    "        value = a.pop(idx)\n",
    "        result.append(value)\n",
    "    return result\n",
    "\n",
    "v = [2,4,3,1,5]\n",
    "sel_srt(v)"
   ]
  },
  {
   "cell_type": "code",
   "execution_count": 12,
   "metadata": {},
   "outputs": [
    {
     "data": {
      "text/plain": [
       "[1, 2, 3, 4, 5]"
      ]
     },
     "execution_count": 12,
     "metadata": {},
     "output_type": "execute_result"
    }
   ],
   "source": [
    "#일반적인 선택 알고리즘\n",
    "def sel_sort(a):\n",
    "    n = len(a)\n",
    "    for i in range(0, n-1):\n",
    "        min_idx = i\n",
    "        for j in range(i+1, n):\n",
    "            if a[j] < a[min_idx]:\n",
    "                min_idx = j\n",
    "        a[i], a[min_idx] = a[min_idx], a[i]\n",
    "\n",
    "                \n",
    "d=[2,4,5,1,3]\n",
    "sel_sort(d)\n",
    "d"
   ]
  },
  {
   "cell_type": "code",
   "execution_count": 14,
   "metadata": {},
   "outputs": [
    {
     "name": "stdout",
     "output_type": "stream",
     "text": [
      "2 1\n"
     ]
    }
   ],
   "source": [
    "x=1\n",
    "y=2\n",
    "x, y = y, x\n",
    "print(x,y)"
   ]
  },
  {
   "cell_type": "code",
   "execution_count": 15,
   "metadata": {},
   "outputs": [
    {
     "name": "stdout",
     "output_type": "stream",
     "text": [
      "[1, 2, 3, 4, 5]\n"
     ]
    }
   ],
   "source": [
    "# 연습문제 8-1:\n",
    "def selsrt(a):\n",
    "    n = len(a)\n",
    "    for i in range(0,n-1):\n",
    "        min_idx = i\n",
    "        for j in range(i+1,n):\n",
    "            if a[j] < a[min_idx]:\n",
    "                min_idx = j\n",
    "        a[i],a[min_idx]=a[min_idx],a[i]\n",
    "\n",
    "d=[2,4,5,1,3]\n",
    "selsrt(d)\n",
    "print(d)"
   ]
  },
  {
   "cell_type": "code",
   "execution_count": 17,
   "metadata": {},
   "outputs": [
    {
     "name": "stdout",
     "output_type": "stream",
     "text": [
      "[5, 4, 3, 2, 1]\n"
     ]
    }
   ],
   "source": [
    "# 연습문제 8-2:\n",
    "def selsrt(a):\n",
    "    n = len(a)\n",
    "    for i in range(0,n-1):\n",
    "        max_idx = i\n",
    "        for j in range(i+1,n):\n",
    "            if a[j] > a[max_idx]:\n",
    "                max_idx = j\n",
    "        a[i],a[max_idx]=a[max_idx],a[i]\n",
    "\n",
    "d=[2,4,5,1,3]\n",
    "selsrt(d)\n",
    "print(d)"
   ]
  },
  {
   "cell_type": "markdown",
   "metadata": {},
   "source": [
    "### 문제9: 삽입 정렬  "
   ]
  },
  {
   "cell_type": "code",
   "execution_count": 12,
   "metadata": {},
   "outputs": [
    {
     "data": {
      "text/plain": [
       "[1, 2, 3, 4, 5]"
      ]
     },
     "execution_count": 12,
     "metadata": {},
     "output_type": "execute_result"
    }
   ],
   "source": [
    "#(오답노트) NoneType 에러일 때 확인 잘하자...\n",
    "\n",
    "def find_idx(r,v):\n",
    "    for i in range(0,len(r)):\n",
    "        if v < r[i]:\n",
    "            return i\n",
    "    return len(r)\n",
    "\n",
    "def ins_srt(a):\n",
    "    result = []\n",
    "    while a:\n",
    "        value = a.pop(0)\n",
    "        ins_idx = find_idx(result,value)\n",
    "        result.insert(ins_idx, value)\n",
    "    return result\n",
    "\n",
    "d = [2,4,5,1,3]\n",
    "ins_srt(d)"
   ]
  },
  {
   "cell_type": "code",
   "execution_count": 15,
   "metadata": {},
   "outputs": [
    {
     "name": "stdout",
     "output_type": "stream",
     "text": [
      "[1, 2, 4, 5]\n"
     ]
    }
   ],
   "source": [
    "def ins_sort(a):\n",
    "    n = len(a)\n",
    "    for i in range(1, n):\n",
    "        key = a[i]\n",
    "        j = i-1\n",
    "        while j >= 0 and a[j] > key:\n",
    "            a[j+1] = a[j]\n",
    "            j -= 1\n",
    "        a[j+1] = key\n",
    "    \n",
    "d = [2,4,5,1]\n",
    "ins_sort(d)\n",
    "print(d)"
   ]
  },
  {
   "cell_type": "markdown",
   "metadata": {},
   "source": [
    "(중요)연습문제 9-1: 과정 적기 -> 과정 적으니깐 확실히 이해가 빠르다."
   ]
  },
  {
   "cell_type": "code",
   "execution_count": 17,
   "metadata": {},
   "outputs": [
    {
     "name": "stdout",
     "output_type": "stream",
     "text": [
      "[5, 4, 2, 1]\n"
     ]
    }
   ],
   "source": [
    "def ins_sort(a):\n",
    "    n = len(a)\n",
    "    for i in range(1, n): #1부터 쭉 n까지 확인\n",
    "        key = a[i] #key는 따로 저장하는것이고, j는 i보다 1작은 수(왼쪽수)\n",
    "        j = i-1\n",
    "        while j >= 0 and a[j] < key: #왼쪽이 오른쪽보다 작으면 -> 자리바꾸기, 그렇지 않으면 유지\n",
    "            a[j+1] = a[j] # 자리바꾸기\n",
    "            j -= 1\n",
    "        a[j+1] = key\n",
    "    \n",
    "d = [2,4,5,1]\n",
    "ins_sort(d)\n",
    "print(d)"
   ]
  },
  {
   "cell_type": "markdown",
   "metadata": {},
   "source": [
    "### 문제10: 병합 정렬  "
   ]
  },
  {
   "cell_type": "code",
   "execution_count": 23,
   "metadata": {},
   "outputs": [
    {
     "name": "stdout",
     "output_type": "stream",
     "text": [
      "[1, 2, 3, 3, 4, 5, 6, 8, 9, 10, 11, 12]\n"
     ]
    }
   ],
   "source": [
    "#재귀호출 사용해서 정렬\n",
    "#쉽게 설명한 병합 정렬\n",
    "#입력: 리스트 a\n",
    "#출력: 정렬된 새 리스트\n",
    "\n",
    "\n",
    "def merge_sort(a):\n",
    "    n = len(a)\n",
    "    #종료 조건: 정렬할 리스트의 자료 개수가 한 개 이하이면 정렬할 필요 없음\n",
    "    if n <= 1:\n",
    "        return a\n",
    "    #그룹을 나누어 각각 병합 정렬을 호출하는 과정\n",
    "    mid = n//2\n",
    "    g1 = merge_sort(a[:mid])\n",
    "    g2 = merge_sort(a[mid:])\n",
    "    # 두 그룹을 하나로 병합\n",
    "    result = []\n",
    "    while g1 and g2:\n",
    "        if g1[0]<g2[0]:\n",
    "            result.append(g1.pop(0))\n",
    "        else:\n",
    "            result.append(g2.pop(0))\n",
    "    while g1:\n",
    "        result.append(g1.pop(0))\n",
    "    while g2:\n",
    "        result.append(g2.pop(0))\n",
    "    return result\n",
    "\n",
    "d=[6,8,3,9,10,12,11,1,2,3,5,4]\n",
    "print(merge_sort(d))"
   ]
  },
  {
   "cell_type": "code",
   "execution_count": 24,
   "metadata": {},
   "outputs": [
    {
     "name": "stdout",
     "output_type": "stream",
     "text": [
      "[10, 9, 8, 7, 6, 5, 4, 3, 2, 1]\n"
     ]
    }
   ],
   "source": [
    "def merge_sort(a):\n",
    "    n = len(a)\n",
    "    if n<=1:\n",
    "        return\n",
    "    mid = n//2\n",
    "    g1 = a[:mid]\n",
    "    g2 = a[mid:]\n",
    "    merge_sort(g1)\n",
    "    merge_sort(g2)\n",
    "    \n",
    "    i1 = 0\n",
    "    i2 = 0\n",
    "    ia = 0\n",
    "    \n",
    "    while i1 < len(g1) and i2 < len(g2):\n",
    "        if g1[i1] > g2[i2]:\n",
    "            a[ia] = g1[i1]\n",
    "            i1 += 1\n",
    "            ia += 1\n",
    "        else:\n",
    "            a[ia] = g2[i2]\n",
    "            i2 += 1\n",
    "            ia += 1\n",
    "    while i1< len(g1):\n",
    "        a[ia] = g1[i1]\n",
    "        i1 += 1\n",
    "        ia += 1\n",
    "    while i2 < len(g2):\n",
    "        a[ia] = g2[i2]\n",
    "        i2 += 1\n",
    "        ia += 1\n",
    "\n",
    "d = [6,8,3,9,10,1,2,4,7,5]\n",
    "merge_sort(d)\n",
    "print(d)"
   ]
  },
  {
   "cell_type": "code",
   "execution_count": 19,
   "metadata": {},
   "outputs": [
    {
     "name": "stdout",
     "output_type": "stream",
     "text": [
      "[1, 2, 3, 4, 5, 6, 7, 8, 9, 10]\n"
     ]
    }
   ],
   "source": [
    "def merge_sort(a):\n",
    "    n = len(a)\n",
    "    if n<=1:\n",
    "        return\n",
    "    mid = n//2\n",
    "    g1 = a[:mid]\n",
    "    g2 = a[mid:]\n",
    "    merge_sort(g1)\n",
    "    merge_sort(g2)\n",
    "    \n",
    "    i1 = 0\n",
    "    i2 = 0\n",
    "    ia = 0\n",
    "    \n",
    "    while i1 < len(g1) and i2 < len(g2):\n",
    "        if g1[i1] < g2[i2]:\n",
    "            a[ia] = g1[i1]\n",
    "            i1 += 1\n",
    "            ia += 1\n",
    "        else:\n",
    "            a[ia] = g2[i2]\n",
    "            i2 += 1\n",
    "            ia += 1\n",
    "    while i1< len(g1):\n",
    "        a[ia] = g1[i1]\n",
    "        i1 += 1\n",
    "        ia += 1\n",
    "    while i2 < len(g2):\n",
    "        a[ia] = g2[i2]\n",
    "        i2 += 1\n",
    "        ia += 1\n",
    "\n",
    "d = [6,8,3,9,10,1,2,4,7,5]\n",
    "merge_sort(d)\n",
    "print(d)"
   ]
  },
  {
   "cell_type": "markdown",
   "metadata": {},
   "source": [
    "### 문제11: 퀵 정렬  "
   ]
  },
  {
   "cell_type": "code",
   "execution_count": 29,
   "metadata": {},
   "outputs": [
    {
     "name": "stdout",
     "output_type": "stream",
     "text": [
      "[1, 2, 3, 4, 5, 6, 7, 8, 9, 10]\n"
     ]
    }
   ],
   "source": [
    "def quick_sort(a):\n",
    "    n = len(a)\n",
    "    if n<=1:\n",
    "        return a\n",
    "    pivot = a[-1]\n",
    "    g1 = []\n",
    "    g2 = []\n",
    "    for i in range(0,n-1):\n",
    "        if a[i] < pivot:\n",
    "            g1.append(a[i])\n",
    "        else:\n",
    "            g2.append(a[i])\n",
    "    return quick_sort(g1) + [pivot] + quick_sort(g2)\n",
    "\n",
    "d = [6,8,3,9,10,1,2,4,7,5]\n",
    "print(quick_sort(d))"
   ]
  },
  {
   "cell_type": "code",
   "execution_count": 30,
   "metadata": {},
   "outputs": [
    {
     "name": "stdout",
     "output_type": "stream",
     "text": [
      "[1, 2, 3, 4, 5, 6, 7, 8, 9, 10]\n"
     ]
    }
   ],
   "source": [
    "def quick_sort_sub(a, start, end):\n",
    "    if end - start <= 0:\n",
    "        return\n",
    "    pivot = a[end]\n",
    "    i = start\n",
    "    for j in range(start, end):\n",
    "        if a[j] <= pivot:\n",
    "            a[i], a[j] = a[j], a[i]\n",
    "            i += 1\n",
    "    a[i], a[end] = a[end], a[i]\n",
    "    quick_sort_sub(a, start, i -1)\n",
    "    quick_sort_sub(a, i +1, end)\n",
    "    \n",
    "def quick_sort(a):\n",
    "    quick_sort_sub(a,0,len(a)-1)\n",
    "\n",
    "d=[6,8,3,9,10,1,2,4,7,5]\n",
    "quick_sort(d)\n",
    "print(d)"
   ]
  },
  {
   "cell_type": "markdown",
   "metadata": {},
   "source": [
    "##### 문제12: 이분 탐색  "
   ]
  },
  {
   "cell_type": "code",
   "execution_count": 35,
   "metadata": {},
   "outputs": [],
   "source": [
    "def binary_search(a,x):\n",
    "    start = 0\n",
    "    end = len(a) -1\n",
    "    \n",
    "    while end - start >0 :\n",
    "        mid = (start + end)//2\n",
    "        if x < a[mid]:\n",
    "            end = mid -1\n",
    "        elif x > a[mid]:\n",
    "            start = mid +1\n",
    "        elif x == a[mid]:\n",
    "            return mid"
   ]
  },
  {
   "cell_type": "code",
   "execution_count": 36,
   "metadata": {},
   "outputs": [
    {
     "data": {
      "text/plain": [
       "2"
      ]
     },
     "execution_count": 36,
     "metadata": {},
     "output_type": "execute_result"
    }
   ],
   "source": [
    "d =[1, 2, 3, 4, 5, 6, 7, 8, 9, 10]\n",
    "binary_search(d,3)"
   ]
  },
  {
   "cell_type": "code",
   "execution_count": 61,
   "metadata": {},
   "outputs": [],
   "source": [
    "#연습문제 12-1\n",
    "\n",
    "def sech(a,x,start,end):\n",
    "    if start > end:\n",
    "        return print('hello')\n",
    "    mid = (start + end)//2\n",
    "    if x == a[mid]:\n",
    "        return mid\n",
    "    elif x > a[mid]:\n",
    "        return sech(a,x,mid+1,end)\n",
    "    else:\n",
    "        return sech(a,x,start,mid-1)\n",
    "    \n",
    "            \n",
    "        "
   ]
  },
  {
   "cell_type": "code",
   "execution_count": 62,
   "metadata": {},
   "outputs": [
    {
     "data": {
      "text/plain": [
       "2"
      ]
     },
     "execution_count": 62,
     "metadata": {},
     "output_type": "execute_result"
    }
   ],
   "source": [
    "d =[1, 3, 4, 5, 6, 7, 8, 9, 10]\n",
    "sech(d,4,0,8)"
   ]
  },
  {
   "cell_type": "code",
   "execution_count": 57,
   "metadata": {},
   "outputs": [
    {
     "data": {
      "text/plain": [
       "9"
      ]
     },
     "execution_count": 57,
     "metadata": {},
     "output_type": "execute_result"
    }
   ],
   "source": [
    "len(d)"
   ]
  },
  {
   "cell_type": "markdown",
   "metadata": {},
   "source": [
    "### 넷째 마당 : 자료 구조  \n",
    "##### 문제13: 회문 찾기(큐와 스택)  "
   ]
  },
  {
   "cell_type": "code",
   "execution_count": 66,
   "metadata": {},
   "outputs": [
    {
     "name": "stdout",
     "output_type": "stream",
     "text": [
      "True\n",
      "False\n"
     ]
    }
   ],
   "source": [
    "# 책 풀이\n",
    "def palindrome(s):\n",
    "    qu = []\n",
    "    st = []\n",
    "    for x in s:\n",
    "        if x.isalpha():\n",
    "            qu.append(x.lower())\n",
    "            st.append(x.lower())\n",
    "    while qu:\n",
    "        if qu.pop(0) != st.pop():\n",
    "            return False\n",
    "    return True\n",
    "\n",
    "print(palindrome('Wow'))\n",
    "print(palindrome('sand'))"
   ]
  },
  {
   "cell_type": "code",
   "execution_count": 86,
   "metadata": {},
   "outputs": [],
   "source": [
    "#연습문제 13-1\n",
    "def wor_d(s):\n",
    "    word = []\n",
    "    for x in s:\n",
    "        if x.isalpha():\n",
    "            word.append(x.lower())\n",
    "    return word\n",
    "\n",
    "def palindrome(a,start,end):\n",
    "    mid = (start+end)//2\n",
    "    for i in range(start,mid):\n",
    "        if a[i] != a[end-i]:\n",
    "            return False\n",
    "    return True\n",
    "\n",
    "\n",
    "\n",
    "d =\"Madam, I'm Adam.\"\n",
    "d = wor_d(d)\n",
    "print(d)\n",
    "print(palindrome(d,0,len(d)-1))"
   ]
  },
  {
   "cell_type": "markdown",
   "metadata": {},
   "source": [
    "##### 문제14: 동명이인 찾기(2)(딕셔너리)"
   ]
  },
  {
   "cell_type": "markdown",
   "metadata": {},
   "source": [
    "### 딕셔너리 함수\n",
    "len(a), d[key], d[key]=value, del d[key], clear(), key in d  \n",
    "집합과 딕셔너리 구분!! :(콜론)으로 구분하면 된다."
   ]
  },
  {
   "cell_type": "code",
   "execution_count": 91,
   "metadata": {},
   "outputs": [
    {
     "data": {
      "text/plain": [
       "{'Mike', 'Tom'}"
      ]
     },
     "execution_count": 91,
     "metadata": {},
     "output_type": "execute_result"
    }
   ],
   "source": [
    "# 책 풀이\n",
    "def find_same_name(a):\n",
    "    name_dict ={}\n",
    "    for name in a:\n",
    "        if name in name_dict:\n",
    "            name_dict[name] += 1\n",
    "        else:\n",
    "            name_dict[name] =1\n",
    "    result = set()\n",
    "    for name in name_dict:\n",
    "        if name_dict[name] >= 2:\n",
    "            result.add(name)\n",
    "    return result\n",
    "\n",
    "name = ['Tom', 'Jerry', 'Mike', 'Tom', 'Mike']\n",
    "find_same_name(name)\n",
    "\n"
   ]
  },
  {
   "cell_type": "code",
   "execution_count": 98,
   "metadata": {},
   "outputs": [
    {
     "data": {
      "text/plain": [
       "'justin'"
      ]
     },
     "execution_count": 98,
     "metadata": {},
     "output_type": "execute_result"
    }
   ],
   "source": [
    "# 연습문제 14-1\n",
    "abc = {39:'justin',14:'John',67:'Mike',105:'Summer'}\n",
    "\n",
    "def callin(number,a):\n",
    "    if number in a:\n",
    "        return a[number]\n",
    "    else:\n",
    "        return print('?')\n",
    "\n",
    "callin(39,abc)\n"
   ]
  },
  {
   "cell_type": "markdown",
   "metadata": {},
   "source": [
    "##### 문제15: 친구의 친구 찾기(그래프)  "
   ]
  },
  {
   "cell_type": "code",
   "execution_count": 100,
   "metadata": {},
   "outputs": [],
   "source": [
    "fr_info ={\n",
    "    'Summer': ['John','Justin','Mike'],\n",
    "    'John': ['Summer','Justin'],\n",
    "    'Justin': ['John','Summer','Mike','May'],\n",
    "    'Mike': ['Summer','Justin'],\n",
    "    'May': ['Justin','Kim'],\n",
    "    'Kim': ['May'],\n",
    "    'Tom':['Jerry'],\n",
    "    'Jerry': ['Tom']\n",
    "}"
   ]
  },
  {
   "cell_type": "code",
   "execution_count": 103,
   "metadata": {},
   "outputs": [],
   "source": [
    "def print_all_freinds(g, start):\n",
    "    qu = []\n",
    "    done = set()\n",
    "    \n",
    "    qu.append(start)\n",
    "    done.add(start)\n",
    "    \n",
    "    while qu:\n",
    "        p= qu.pop(0)\n",
    "        print(p)\n",
    "        for x in g[p]:\n",
    "            if x not in done:\n",
    "                qu.append(x)\n",
    "                done.add(x)"
   ]
  },
  {
   "cell_type": "code",
   "execution_count": 106,
   "metadata": {},
   "outputs": [
    {
     "name": "stdout",
     "output_type": "stream",
     "text": [
      "Summer 0\n",
      "John 1\n",
      "Justin 1\n",
      "Mike 1\n",
      "May 2\n",
      "Kim 3\n"
     ]
    }
   ],
   "source": [
    "def print_all_friends(g, start):\n",
    "    qu = []\n",
    "    done = set()\n",
    "    qu.append((start, 0))\n",
    "    done.add(start)\n",
    "    \n",
    "    while qu:\n",
    "        (p,d) = qu.pop(0)\n",
    "        print(p,d)\n",
    "        for x in g[p]:\n",
    "            if x not in done:\n",
    "                qu.append((x,d+1))\n",
    "                done.add(x)\n",
    "                \n",
    "print_all_friends(fr_info,'Summer')"
   ]
  },
  {
   "cell_type": "markdown",
   "metadata": {},
   "source": [
    "### 다섯째 마당: 응용문제\n",
    "##### 문제16: 미로 찾기 알고리즘  "
   ]
  },
  {
   "cell_type": "code",
   "execution_count": null,
   "metadata": {},
   "outputs": [],
   "source": []
  },
  {
   "cell_type": "code",
   "execution_count": null,
   "metadata": {},
   "outputs": [],
   "source": []
  },
  {
   "cell_type": "markdown",
   "metadata": {},
   "source": [
    "##### 문제17: 가짜 동전 찾기 알고리즘  "
   ]
  },
  {
   "cell_type": "markdown",
   "metadata": {},
   "source": [
    "##### 문제18: 최대 수익 알고리즘 "
   ]
  }
 ],
 "metadata": {
  "kernelspec": {
   "display_name": "Python 3",
   "language": "python",
   "name": "python3"
  },
  "language_info": {
   "codemirror_mode": {
    "name": "ipython",
    "version": 3
   },
   "file_extension": ".py",
   "mimetype": "text/x-python",
   "name": "python",
   "nbconvert_exporter": "python",
   "pygments_lexer": "ipython3",
   "version": "3.8.5"
  }
 },
 "nbformat": 4,
 "nbformat_minor": 4
}
